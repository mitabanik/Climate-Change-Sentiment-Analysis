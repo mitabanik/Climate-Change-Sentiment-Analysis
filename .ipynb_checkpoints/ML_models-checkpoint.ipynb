{
 "cells": [
  {
   "cell_type": "code",
   "execution_count": 2,
   "id": "cdb2855a",
   "metadata": {},
   "outputs": [
    {
     "ename": "ModuleNotFoundError",
     "evalue": "No module named 'data_utils'",
     "output_type": "error",
     "traceback": [
      "\u001b[0;31m---------------------------------------------------------------------------\u001b[0m",
      "\u001b[0;31mModuleNotFoundError\u001b[0m                       Traceback (most recent call last)",
      "\u001b[0;32m/var/folders/58/fw1mf93d4gxg7d40q7fc5hj00000gn/T/ipykernel_5779/2749455967.py\u001b[0m in \u001b[0;36m<module>\u001b[0;34m\u001b[0m\n\u001b[1;32m      3\u001b[0m \u001b[0;32mimport\u001b[0m \u001b[0mseaborn\u001b[0m \u001b[0;32mas\u001b[0m \u001b[0msns\u001b[0m\u001b[0;34m\u001b[0m\u001b[0;34m\u001b[0m\u001b[0m\n\u001b[1;32m      4\u001b[0m \u001b[0;32mimport\u001b[0m \u001b[0mre\u001b[0m\u001b[0;34m\u001b[0m\u001b[0;34m\u001b[0m\u001b[0m\n\u001b[0;32m----> 5\u001b[0;31m \u001b[0;32mfrom\u001b[0m \u001b[0mdata_utils\u001b[0m \u001b[0;32mimport\u001b[0m \u001b[0mclean_data\u001b[0m\u001b[0;34m,\u001b[0m\u001b[0mhashtag_count_value\u001b[0m\u001b[0;34m,\u001b[0m\u001b[0mget_VADER\u001b[0m\u001b[0;34m\u001b[0m\u001b[0;34m\u001b[0m\u001b[0m\n\u001b[0m\u001b[1;32m      6\u001b[0m \u001b[0;32mimport\u001b[0m \u001b[0mmatplotlib\u001b[0m\u001b[0;34m.\u001b[0m\u001b[0mpyplot\u001b[0m \u001b[0;32mas\u001b[0m \u001b[0mplt\u001b[0m\u001b[0;34m\u001b[0m\u001b[0;34m\u001b[0m\u001b[0m\n\u001b[1;32m      7\u001b[0m \u001b[0;32mfrom\u001b[0m \u001b[0mnltk\u001b[0m\u001b[0;34m.\u001b[0m\u001b[0mtokenize\u001b[0m \u001b[0;32mimport\u001b[0m \u001b[0mTweetTokenizer\u001b[0m\u001b[0;34m\u001b[0m\u001b[0;34m\u001b[0m\u001b[0m\n",
      "\u001b[0;31mModuleNotFoundError\u001b[0m: No module named 'data_utils'"
     ]
    }
   ],
   "source": [
    "import pandas as pd\n",
    "import numpy as np\n",
    "import seaborn as sns\n",
    "import re\n",
    "from data_utils import clean_data,hashtag_count_value,get_VADER\n",
    "import matplotlib.pyplot as plt\n",
    "from nltk.tokenize import TweetTokenizer\n",
    "from sklearn.linear_model import LogisticRegression\n",
    "from sklearn.neighbors import KNeighborsClassifier\n",
    "from sklearn.svm import SVC, LinearSVC, NuSVC\n",
    "from sklearn.tree import DecisionTreeClassifier\n",
    "from sklearn.ensemble import RandomForestClassifier, AdaBoostClassifier, GradientBoostingClassifier,VotingClassifier\n",
    "from sklearn.naive_bayes import GaussianNB\n",
    "from sklearn.naive_bayes import BernoulliNB,MultinomialNB\n",
    "from sklearn.discriminant_analysis import LinearDiscriminantAnalysis\n",
    "from sklearn.discriminant_analysis import QuadraticDiscriminantAnalysis\n",
    "from sklearn.metrics import accuracy_score,f1_score,roc_auc_score,confusion_matrix,matthews_corrcoef,classification_report\n",
    "from sklearn.base import clone\n",
    "from sklearn.neural_network import MLPClassifier\n",
    "from nltk.corpus import stopwords\n",
    "from sklearn.feature_extraction.text import TfidfVectorizer , CountVectorizer\n",
    "from sklearn.model_selection import StratifiedKFold,cross_validate\n",
    "from gensim.models import Word2Vec\n",
    "from xgboost import XGBClassifier\n",
    "from sklearn.decomposition import TruncatedSVD"
   ]
  },
  {
   "cell_type": "code",
   "execution_count": null,
   "id": "b0bec158",
   "metadata": {},
   "outputs": [],
   "source": [
    "df=pd.read_csv(\"https://raw.githubusercontent.com/edwardcqian/climate_change_sentiment/master/data/sample_data.csv\")"
   ]
  },
  {
   "cell_type": "code",
   "execution_count": 3,
   "id": "5f7d97f5",
   "metadata": {},
   "outputs": [
    {
     "data": {
      "text/plain": [
       "(34667, 3)"
      ]
     },
     "execution_count": 3,
     "metadata": {},
     "output_type": "execute_result"
    }
   ],
   "source": [
    "df=df.loc[df['sentiment']!=2]\n",
    "df=df.reset_index(drop=True)\n",
    "df.shape"
   ]
  },
  {
   "cell_type": "code",
   "execution_count": 4,
   "id": "d7280b24",
   "metadata": {},
   "outputs": [],
   "source": [
    "df['clean_data'] = df['message'].apply(clean_data)\n",
    "df=df[['sentiment','clean_data','message']]\n",
    "from sklearn.model_selection import train_test_split\n",
    "df_train,df_test=train_test_split(df,test_size=0.2,shuffle=True,stratify=df['sentiment'],\n",
    "                                  random_state=42).copy()\n",
    "df_train['sentiment'].value_counts(normalize=True)\n",
    "def clean(tweet):\n",
    "    tweet=re.sub(r'( rt)|(rt )|( htt)|(htt )',\"\",tweet,flags=re.IGNORECASE)\n",
    "    tweet=re.sub(r'Ã¢â‚¬Â¦',\"\",tweet,flags=re.IGNORECASE)\n",
    "    return tweet\n",
    "df_train['clean_data']=df_train['clean_data'].apply(clean)\n",
    "df_test['clean_data']=df_test['clean_data'].apply(clean)"
   ]
  },
  {
   "cell_type": "code",
   "execution_count": 5,
   "id": "212ea3d1",
   "metadata": {},
   "outputs": [
    {
     "data": {
      "text/plain": [
       " 1    0.662352\n",
       " 0    0.222551\n",
       "-1    0.115098\n",
       "Name: sentiment, dtype: float64"
      ]
     },
     "execution_count": 5,
     "metadata": {},
     "output_type": "execute_result"
    }
   ],
   "source": [
    "df_train.sentiment.value_counts(normalize=True)"
   ]
  },
  {
   "cell_type": "code",
   "execution_count": 6,
   "id": "abe5e931",
   "metadata": {},
   "outputs": [],
   "source": [
    "df_train=df_train.reset_index(drop=False)"
   ]
  },
  {
   "cell_type": "markdown",
   "id": "6d041b14",
   "metadata": {},
   "source": [
    "### CountVectorizer Model "
   ]
  },
  {
   "cell_type": "code",
   "execution_count": 9,
   "id": "de998ee4",
   "metadata": {},
   "outputs": [
    {
     "data": {
      "text/plain": [
       "(27733, 3000)"
      ]
     },
     "execution_count": 9,
     "metadata": {},
     "output_type": "execute_result"
    }
   ],
   "source": [
    "cv = CountVectorizer(max_features=3000)\n",
    "#svd=TruncatedSVD(n_components=500)\n",
    "# We transform each text into a vector\n",
    "cd_features = cv.fit_transform(df_train.clean_data).toarray()\n",
    "#cd_features=svd.fit_transform(cd_features)\n",
    "\n",
    "cd_labels = df_train.sentiment\n",
    "cd_features.shape"
   ]
  },
  {
   "cell_type": "code",
   "execution_count": 10,
   "id": "e469c07c",
   "metadata": {},
   "outputs": [],
   "source": [
    "models = [\n",
    "    BernoulliNB(),\n",
    "    LogisticRegression(C=1,max_iter=10000),\n",
    "    #KNeighborsClassifier(5),\n",
    "    MultinomialNB(),\n",
    "    #SVC(kernel=\"rbf\", C=1, probability=True),\n",
    "    #DecisionTreeClassifier(),\n",
    "    #RandomForestClassifier(n_estimators=200,max_depth=14,random_state=110),\n",
    "    #AdaBoostClassifier()\n",
    "    #ExtraTreesClassifier(n_estimators=200,max_depth=10,random_state=118),\n",
    "    #VotingClassifier([('log', LogisticRegression()),\n",
    "    #                          ('nb', MultinomialNB())],\n",
    "    #                     voting='soft')\n",
    "    #LinearDiscriminantAnalysis()\n",
    "]"
   ]
  },
  {
   "cell_type": "code",
   "execution_count": 11,
   "id": "237574fa",
   "metadata": {},
   "outputs": [],
   "source": [
    "CV=5\n",
    "cv_df = pd.DataFrame(index=range( CV* len(models)))\n",
    "entries = []\n",
    "for model in models:\n",
    "    model_name = model.__class__.__name__\n",
    "    scores = cross_validate(model, cd_features, cd_labels, scoring=('accuracy','f1_macro'), cv=CV)\n",
    "    for i in range(1,CV+1):\n",
    "        entries.append((model_name, i, scores['test_accuracy'][i-1],scores['test_f1_macro'][i-1]))\n",
    "    \n",
    "cv_df = pd.DataFrame(entries, columns=['model_name', 'fold_idx', 'accuracy','f1_macro'])"
   ]
  },
  {
   "cell_type": "code",
   "execution_count": 12,
   "id": "233fd3f0",
   "metadata": {},
   "outputs": [
    {
     "data": {
      "text/html": [
       "<div>\n",
       "<style scoped>\n",
       "    .dataframe tbody tr th:only-of-type {\n",
       "        vertical-align: middle;\n",
       "    }\n",
       "\n",
       "    .dataframe tbody tr th {\n",
       "        vertical-align: top;\n",
       "    }\n",
       "\n",
       "    .dataframe thead th {\n",
       "        text-align: right;\n",
       "    }\n",
       "</style>\n",
       "<table border=\"1\" class=\"dataframe\">\n",
       "  <thead>\n",
       "    <tr style=\"text-align: right;\">\n",
       "      <th></th>\n",
       "      <th>Mean_accuracy</th>\n",
       "      <th>Acc_std</th>\n",
       "      <th>Mean F1_macro</th>\n",
       "      <th>F1_std</th>\n",
       "    </tr>\n",
       "    <tr>\n",
       "      <th>model_name</th>\n",
       "      <th></th>\n",
       "      <th></th>\n",
       "      <th></th>\n",
       "      <th></th>\n",
       "    </tr>\n",
       "  </thead>\n",
       "  <tbody>\n",
       "    <tr>\n",
       "      <th>BernoulliNB</th>\n",
       "      <td>0.721883</td>\n",
       "      <td>0.009062</td>\n",
       "      <td>0.626366</td>\n",
       "      <td>0.010449</td>\n",
       "    </tr>\n",
       "    <tr>\n",
       "      <th>LogisticRegression</th>\n",
       "      <td>0.758843</td>\n",
       "      <td>0.002126</td>\n",
       "      <td>0.655164</td>\n",
       "      <td>0.006087</td>\n",
       "    </tr>\n",
       "    <tr>\n",
       "      <th>MultinomialNB</th>\n",
       "      <td>0.730069</td>\n",
       "      <td>0.006450</td>\n",
       "      <td>0.636349</td>\n",
       "      <td>0.009350</td>\n",
       "    </tr>\n",
       "  </tbody>\n",
       "</table>\n",
       "</div>"
      ],
      "text/plain": [
       "                    Mean_accuracy   Acc_std  Mean F1_macro    F1_std\n",
       "model_name                                                          \n",
       "BernoulliNB              0.721883  0.009062       0.626366  0.010449\n",
       "LogisticRegression       0.758843  0.002126       0.655164  0.006087\n",
       "MultinomialNB            0.730069  0.006450       0.636349  0.009350"
      ]
     },
     "execution_count": 12,
     "metadata": {},
     "output_type": "execute_result"
    }
   ],
   "source": [
    "mean_accuracy = cv_df.groupby('model_name').accuracy.mean()\n",
    "acc_std=cv_df.groupby('model_name').accuracy.std()\n",
    "mean_f1_macro = cv_df.groupby('model_name').f1_macro.mean()\n",
    "f1_std=cv_df.groupby('model_name').f1_macro.std()\n",
    "\n",
    "cv_acc = pd.concat([mean_accuracy,acc_std, mean_f1_macro,f1_std], axis= 1, \n",
    "          ignore_index=True)\n",
    "cv_acc.columns = ['Mean_accuracy','Acc_std','Mean F1_macro','F1_std']\n",
    "cv_acc"
   ]
  },
  {
   "cell_type": "markdown",
   "id": "78d98f27",
   "metadata": {},
   "source": [
    "Seems like LogisticRegression performs the best with highest accuracy and mean F1_macro."
   ]
  },
  {
   "cell_type": "markdown",
   "id": "a91b965c",
   "metadata": {},
   "source": [
    "### TF-IDF Model"
   ]
  },
  {
   "cell_type": "code",
   "execution_count": 13,
   "id": "361149e6",
   "metadata": {},
   "outputs": [],
   "source": [
    "tfidf = TfidfVectorizer(sublinear_tf=True, min_df=3,\n",
    "                        max_features=3000,ngram_range=(1,3),\n",
    "                        \n",
    "                        stop_words='english')\n",
    "\n",
    "# We transform each text into a vector\n",
    "tfidf_features = tfidf.fit_transform(df_train.clean_data).toarray()\n",
    "\n",
    "tfidf_labels = df_train.sentiment"
   ]
  },
  {
   "cell_type": "code",
   "execution_count": 14,
   "id": "04a541ea",
   "metadata": {},
   "outputs": [],
   "source": [
    "CV=5\n",
    "tfidf_df = pd.DataFrame(index=range(CV * len(models)))\n",
    "entries = []\n",
    "for model in models:\n",
    "    model_name = model.__class__.__name__\n",
    "    scores = cross_validate(model, tfidf_features, tfidf_labels, scoring=('accuracy','f1_macro'), cv=CV)\n",
    "    for i in range(1,CV+1):\n",
    "        entries.append((model_name, i, scores['test_accuracy'][i-1],scores['test_f1_macro'][i-1]))\n",
    "    \n",
    "tfidf_df = pd.DataFrame(entries, columns=['model_name', 'fold_idx', 'accuracy','f1_macro'])"
   ]
  },
  {
   "cell_type": "code",
   "execution_count": 15,
   "id": "0ef4b637",
   "metadata": {},
   "outputs": [
    {
     "data": {
      "text/html": [
       "<div>\n",
       "<style scoped>\n",
       "    .dataframe tbody tr th:only-of-type {\n",
       "        vertical-align: middle;\n",
       "    }\n",
       "\n",
       "    .dataframe tbody tr th {\n",
       "        vertical-align: top;\n",
       "    }\n",
       "\n",
       "    .dataframe thead th {\n",
       "        text-align: right;\n",
       "    }\n",
       "</style>\n",
       "<table border=\"1\" class=\"dataframe\">\n",
       "  <thead>\n",
       "    <tr style=\"text-align: right;\">\n",
       "      <th></th>\n",
       "      <th>Mean_accuracy</th>\n",
       "      <th>Acc_std</th>\n",
       "      <th>Mean F1_macro</th>\n",
       "      <th>F1_std</th>\n",
       "    </tr>\n",
       "    <tr>\n",
       "      <th>model_name</th>\n",
       "      <th></th>\n",
       "      <th></th>\n",
       "      <th></th>\n",
       "      <th></th>\n",
       "    </tr>\n",
       "  </thead>\n",
       "  <tbody>\n",
       "    <tr>\n",
       "      <th>BernoulliNB</th>\n",
       "      <td>0.682833</td>\n",
       "      <td>0.006207</td>\n",
       "      <td>0.595116</td>\n",
       "      <td>0.006310</td>\n",
       "    </tr>\n",
       "    <tr>\n",
       "      <th>LogisticRegression</th>\n",
       "      <td>0.753543</td>\n",
       "      <td>0.001352</td>\n",
       "      <td>0.623888</td>\n",
       "      <td>0.005582</td>\n",
       "    </tr>\n",
       "    <tr>\n",
       "      <th>MultinomialNB</th>\n",
       "      <td>0.731619</td>\n",
       "      <td>0.003806</td>\n",
       "      <td>0.580213</td>\n",
       "      <td>0.005743</td>\n",
       "    </tr>\n",
       "  </tbody>\n",
       "</table>\n",
       "</div>"
      ],
      "text/plain": [
       "                    Mean_accuracy   Acc_std  Mean F1_macro    F1_std\n",
       "model_name                                                          \n",
       "BernoulliNB              0.682833  0.006207       0.595116  0.006310\n",
       "LogisticRegression       0.753543  0.001352       0.623888  0.005582\n",
       "MultinomialNB            0.731619  0.003806       0.580213  0.005743"
      ]
     },
     "execution_count": 15,
     "metadata": {},
     "output_type": "execute_result"
    }
   ],
   "source": [
    "mean_accuracy = tfidf_df.groupby('model_name').accuracy.mean()\n",
    "acc_std = tfidf_df.groupby('model_name').accuracy.std()\n",
    "mean_f1_macro = tfidf_df.groupby('model_name').f1_macro.mean()\n",
    "f1_std = tfidf_df.groupby('model_name').f1_macro.std()\n",
    "\n",
    "tfidf_acc = pd.concat([mean_accuracy,acc_std, mean_f1_macro,f1_std], axis= 1, \n",
    "          ignore_index=True)\n",
    "tfidf_acc.columns = ['Mean_accuracy','Acc_std','Mean F1_macro','F1_std']\n",
    "tfidf_acc"
   ]
  },
  {
   "cell_type": "markdown",
   "id": "ea64fff7",
   "metadata": {},
   "source": [
    "Both LogisticRegression and MultinomialNB works greats, but the macro F1_scores are considerably lower than the CountVectorizer model."
   ]
  },
  {
   "cell_type": "markdown",
   "id": "f194320f",
   "metadata": {},
   "source": [
    "### Word2Vec Model"
   ]
  },
  {
   "cell_type": "code",
   "execution_count": 16,
   "id": "ebbb880a",
   "metadata": {},
   "outputs": [
    {
     "name": "stdout",
     "output_type": "stream",
     "text": [
      "CPU times: user 5min 48s, sys: 1.56 s, total: 5min 50s\n",
      "Wall time: 49.8 s\n"
     ]
    },
    {
     "data": {
      "text/plain": [
       "(6444791, 9154660)"
      ]
     },
     "execution_count": 16,
     "metadata": {},
     "output_type": "execute_result"
    }
   ],
   "source": [
    "%%time\n",
    "\n",
    "tokenized_tweet = df_train['clean_data'].apply(lambda x: x.split()) # tokenizing \n",
    "\n",
    "model_w2v = Word2Vec(\n",
    "            tokenized_tweet,\n",
    "            size=300, # desired no. of features/independent variables\n",
    "            window=5, # context window size\n",
    "            min_count=2, # Ignores all words with total frequency lower than 2.                                  \n",
    "            sg = 1, # 1 for skip-gram model\n",
    "            hs = 0,\n",
    "            negative = 20, # for negative sampling\n",
    "            workers= 32, # no.of cores\n",
    "            seed = 34\n",
    ") \n",
    "\n",
    "model_w2v.train(tokenized_tweet, total_examples= len(df_train['clean_data']), epochs=20)"
   ]
  },
  {
   "cell_type": "code",
   "execution_count": 17,
   "id": "3ae4ab7e",
   "metadata": {},
   "outputs": [],
   "source": [
    "def word_vector(tokens, size):\n",
    "    vec = np.zeros(size).reshape((1, size))\n",
    "    count = 0\n",
    "    for word in tokens:\n",
    "        try:\n",
    "            vec += model_w2v[word].reshape((1, size))\n",
    "            count += 1.\n",
    "        except KeyError:  # handling the case where the token is not in vocabulary\n",
    "            continue\n",
    "    if count != 0:\n",
    "        vec /= count\n",
    "    return vec"
   ]
  },
  {
   "cell_type": "code",
   "execution_count": 18,
   "id": "d6aade23",
   "metadata": {},
   "outputs": [
    {
     "name": "stderr",
     "output_type": "stream",
     "text": [
      "/var/folders/58/fw1mf93d4gxg7d40q7fc5hj00000gn/T/ipykernel_2661/814884412.py:6: DeprecationWarning: Call to deprecated `__getitem__` (Method will be removed in 4.0.0, use self.wv.__getitem__() instead).\n",
      "  vec += model_w2v[word].reshape((1, size))\n"
     ]
    },
    {
     "data": {
      "text/plain": [
       "(27733, 300)"
      ]
     },
     "execution_count": 18,
     "metadata": {},
     "output_type": "execute_result"
    }
   ],
   "source": [
    "wordvec_arrays = np.zeros((len(tokenized_tweet), 300)) \n",
    "for i in range(len(tokenized_tweet)):\n",
    "    wordvec_arrays[i,:] = word_vector(tokenized_tweet[i], 300)\n",
    "wordvec_df = pd.DataFrame(wordvec_arrays)\n",
    "wordvec_df.shape"
   ]
  },
  {
   "cell_type": "code",
   "execution_count": 19,
   "id": "d6c2d378",
   "metadata": {},
   "outputs": [],
   "source": [
    "wv_models = [\n",
    "    BernoulliNB(),\n",
    "    LogisticRegression(C=1,max_iter=1000),\n",
    "    KNeighborsClassifier(3),\n",
    "    #SVC(kernel=\"rbf\", C=1, probability=True),\n",
    "    #DecisionTreeClassifier(),\n",
    "    RandomForestClassifier(n_estimators=200,max_depth=10,random_state=110),\n",
    "    AdaBoostClassifier(),\n",
    "    #ExtraTreesClassifier(n_estimators=200,max_depth=10,random_state=118),\n",
    "    #VotingClassifier([('log', LogisticRegression()),\n",
    "    #                          ('knn', KNeighborsClassifier(3)),\n",
    "    #                          ('rf', RandomForestClassifier(max_depth=5))],\n",
    "    #                     voting='hard',max_iter=10000),\n",
    "    LinearDiscriminantAnalysis(),\n",
    "    #MLPClassifier(hidden_layer_sizes=(20,20,),max_iter=1000)\n",
    "]\n"
   ]
  },
  {
   "cell_type": "code",
   "execution_count": 23,
   "id": "6bb54f76",
   "metadata": {},
   "outputs": [],
   "source": [
    "ytrain=df_train.sentiment\n",
    "xtrain_w2v = np.array(wordvec_df.iloc[range(len(ytrain)),:])\n",
    "\n"
   ]
  },
  {
   "cell_type": "code",
   "execution_count": 24,
   "id": "91a56203",
   "metadata": {},
   "outputs": [
    {
     "name": "stdout",
     "output_type": "stream",
     "text": [
      "CPU times: user 8min 21s, sys: 14.9 s, total: 8min 35s\n",
      "Wall time: 7min 15s\n"
     ]
    }
   ],
   "source": [
    "%%time\n",
    "CV=5\n",
    "wv_df = pd.DataFrame(index=range( CV* len(wv_models)))\n",
    "entries = []\n",
    "for model in wv_models:\n",
    "    model_name = model.__class__.__name__\n",
    "    scores = cross_validate(model, xtrain_w2v, ytrain, scoring=('accuracy','f1_macro'), cv=CV,error_score='raise')\n",
    "    for i in range(1,CV+1):\n",
    "        entries.append((model_name, i, scores['test_accuracy'][i-1],scores['test_f1_macro'][i-1]))\n",
    "    \n",
    "wv_df = pd.DataFrame(entries, columns=['model_name', 'fold_idx', 'accuracy','f1_macro'])"
   ]
  },
  {
   "cell_type": "code",
   "execution_count": 25,
   "id": "60819d22",
   "metadata": {},
   "outputs": [
    {
     "data": {
      "text/html": [
       "<div>\n",
       "<style scoped>\n",
       "    .dataframe tbody tr th:only-of-type {\n",
       "        vertical-align: middle;\n",
       "    }\n",
       "\n",
       "    .dataframe tbody tr th {\n",
       "        vertical-align: top;\n",
       "    }\n",
       "\n",
       "    .dataframe thead th {\n",
       "        text-align: right;\n",
       "    }\n",
       "</style>\n",
       "<table border=\"1\" class=\"dataframe\">\n",
       "  <thead>\n",
       "    <tr style=\"text-align: right;\">\n",
       "      <th></th>\n",
       "      <th>Mean_accuracy</th>\n",
       "      <th>Mean F1_macro</th>\n",
       "    </tr>\n",
       "    <tr>\n",
       "      <th>model_name</th>\n",
       "      <th></th>\n",
       "      <th></th>\n",
       "    </tr>\n",
       "  </thead>\n",
       "  <tbody>\n",
       "    <tr>\n",
       "      <th>AdaBoostClassifier</th>\n",
       "      <td>0.696319</td>\n",
       "      <td>0.518697</td>\n",
       "    </tr>\n",
       "    <tr>\n",
       "      <th>BernoulliNB</th>\n",
       "      <td>0.654166</td>\n",
       "      <td>0.526584</td>\n",
       "    </tr>\n",
       "    <tr>\n",
       "      <th>KNeighborsClassifier</th>\n",
       "      <td>0.701006</td>\n",
       "      <td>0.560550</td>\n",
       "    </tr>\n",
       "    <tr>\n",
       "      <th>LinearDiscriminantAnalysis</th>\n",
       "      <td>0.739913</td>\n",
       "      <td>0.593075</td>\n",
       "    </tr>\n",
       "    <tr>\n",
       "      <th>LogisticRegression</th>\n",
       "      <td>0.741788</td>\n",
       "      <td>0.593110</td>\n",
       "    </tr>\n",
       "    <tr>\n",
       "      <th>RandomForestClassifier</th>\n",
       "      <td>0.710381</td>\n",
       "      <td>0.431557</td>\n",
       "    </tr>\n",
       "  </tbody>\n",
       "</table>\n",
       "</div>"
      ],
      "text/plain": [
       "                            Mean_accuracy  Mean F1_macro\n",
       "model_name                                              \n",
       "AdaBoostClassifier               0.696319       0.518697\n",
       "BernoulliNB                      0.654166       0.526584\n",
       "KNeighborsClassifier             0.701006       0.560550\n",
       "LinearDiscriminantAnalysis       0.739913       0.593075\n",
       "LogisticRegression               0.741788       0.593110\n",
       "RandomForestClassifier           0.710381       0.431557"
      ]
     },
     "execution_count": 25,
     "metadata": {},
     "output_type": "execute_result"
    }
   ],
   "source": [
    "mean_accuracy = wv_df.groupby('model_name').accuracy.mean()\n",
    "mean_f1_macro = wv_df.groupby('model_name').f1_macro.mean()\n",
    "\n",
    "\n",
    "wv_acc = pd.concat([mean_accuracy, mean_f1_macro], axis= 1, \n",
    "          ignore_index=True)\n",
    "wv_acc.columns = ['Mean_accuracy','Mean F1_macro']\n",
    "wv_acc"
   ]
  },
  {
   "cell_type": "markdown",
   "id": "b965730a",
   "metadata": {},
   "source": [
    "Logistic Regression again has the higest accuracy, but the mean F1_macro scores are lower tha CV and TD-IDF models."
   ]
  },
  {
   "cell_type": "code",
   "execution_count": 26,
   "id": "9c118d3e",
   "metadata": {},
   "outputs": [],
   "source": [
    "#prepping for xgboost model\n",
    "from sklearn.preprocessing import LabelEncoder\n",
    "label_encoder = LabelEncoder()\n",
    "\n",
    "train_w2v = wordvec_df\n",
    "ytrain=label_encoder.fit_transform(df_train.sentiment)\n",
    "\n",
    "xtrain_w2v = np.array(train_w2v.iloc[range(len(ytrain)),:])\n",
    "#xvalid_w2v = train_w2v.iloc[yvalid.index,:]\n",
    "\n",
    "xgb=XGBClassifier(max_depth=5,use_label_encoder=False,eval_metric='mlogloss')"
   ]
  },
  {
   "cell_type": "code",
   "execution_count": 27,
   "id": "f729e5f6",
   "metadata": {},
   "outputs": [],
   "source": [
    "scores = cross_validate(xgb, xtrain_w2v, ytrain, scoring='accuracy',cv=CV)"
   ]
  },
  {
   "cell_type": "code",
   "execution_count": 28,
   "id": "f01154f2",
   "metadata": {},
   "outputs": [
    {
     "data": {
      "text/plain": [
       "0.7540474992866584"
      ]
     },
     "execution_count": 28,
     "metadata": {},
     "output_type": "execute_result"
    }
   ],
   "source": [
    "scores['test_score'].mean()"
   ]
  },
  {
   "cell_type": "markdown",
   "id": "15c2da6e",
   "metadata": {},
   "source": [
    "XGBoost seems to perform better than the models we have considered, let us check the F1_macro scores for a smaller subset."
   ]
  },
  {
   "cell_type": "code",
   "execution_count": 29,
   "id": "0f949fed",
   "metadata": {},
   "outputs": [],
   "source": [
    "train_w2v = wordvec_df.iloc[:10000,:]\n",
    "ytrain=label_encoder.fit_transform(df_train.sentiment[:10000])\n",
    "xtrain_w2v = np.array(train_w2v.iloc[range(len(ytrain)),:])\n",
    "\n",
    "test_w2v = wordvec_df.iloc[10000:13000,:]\n",
    "ytest=label_encoder.fit_transform(df_train.sentiment[10000:13000])\n",
    "xtest_w2v = np.array(test_w2v.iloc[:,:])\n"
   ]
  },
  {
   "cell_type": "code",
   "execution_count": 30,
   "id": "a69c76a7",
   "metadata": {},
   "outputs": [],
   "source": [
    "xgb=XGBClassifier(max_depth=5,use_label_encoder=False,eval_metric='mlogloss')"
   ]
  },
  {
   "cell_type": "code",
   "execution_count": 31,
   "id": "9e76ad21",
   "metadata": {},
   "outputs": [
    {
     "data": {
      "text/plain": [
       "XGBClassifier(base_score=0.5, booster='gbtree', colsample_bylevel=1,\n",
       "              colsample_bynode=1, colsample_bytree=1, enable_categorical=False,\n",
       "              eval_metric='mlogloss', gamma=0, gpu_id=-1, importance_type=None,\n",
       "              interaction_constraints='', learning_rate=0.300000012,\n",
       "              max_delta_step=0, max_depth=5, min_child_weight=1, missing=nan,\n",
       "              monotone_constraints='()', n_estimators=100, n_jobs=8,\n",
       "              num_parallel_tree=1, objective='multi:softprob', predictor='auto',\n",
       "              random_state=0, reg_alpha=0, reg_lambda=1, scale_pos_weight=None,\n",
       "              subsample=1, tree_method='exact', use_label_encoder=False,\n",
       "              validate_parameters=1, ...)"
      ]
     },
     "execution_count": 31,
     "metadata": {},
     "output_type": "execute_result"
    }
   ],
   "source": [
    "xgb.fit(xtrain_w2v,ytrain)\n"
   ]
  },
  {
   "cell_type": "code",
   "execution_count": 32,
   "id": "a8227881",
   "metadata": {},
   "outputs": [
    {
     "name": "stdout",
     "output_type": "stream",
     "text": [
      "              precision    recall  f1-score   support\n",
      "\n",
      "           0       0.31      0.65      0.42       172\n",
      "           1       0.39      0.61      0.48       419\n",
      "           2       0.93      0.77      0.84      2409\n",
      "\n",
      "    accuracy                           0.74      3000\n",
      "   macro avg       0.55      0.68      0.58      3000\n",
      "weighted avg       0.82      0.74      0.77      3000\n",
      "\n"
     ]
    }
   ],
   "source": [
    "print(classification_report(xgb.predict(xtest_w2v),ytest))\n"
   ]
  },
  {
   "cell_type": "markdown",
   "id": "929118a5",
   "metadata": {},
   "source": [
    "Seems like XGBoost model attains good accuracy but the F1_macro scores are lower than previous logistic regression models."
   ]
  },
  {
   "cell_type": "markdown",
   "id": "78b59da8",
   "metadata": {},
   "source": [
    "We will use three models: CV LogisticReg, TF-IDF LogisticReg and WordVec XGBoost Models and check on validation sets."
   ]
  },
  {
   "cell_type": "code",
   "execution_count": 33,
   "id": "deb923cc",
   "metadata": {},
   "outputs": [],
   "source": [
    "from sklearn.pipeline import Pipeline\n"
   ]
  },
  {
   "cell_type": "code",
   "execution_count": 34,
   "id": "36cba5ce",
   "metadata": {},
   "outputs": [],
   "source": [
    "cv_pipe=Pipeline([('cv', CountVectorizer(max_features=3000)), ('lreg', LogisticRegression(max_iter=1000))])\n",
    "tfidf_pipe=Pipeline([('cv', TfidfVectorizer(sublinear_tf=True, min_df=3,\n",
    "                        max_features=3000,ngram_range=(1,3),\n",
    "                        \n",
    "                        stop_words='english')), ('lreg', LogisticRegression(max_iter=1000))])\n"
   ]
  },
  {
   "cell_type": "code",
   "execution_count": 37,
   "id": "147536ea",
   "metadata": {},
   "outputs": [],
   "source": [
    "skf=StratifiedKFold(n_splits=5,shuffle=True,random_state=10)\n"
   ]
  },
  {
   "cell_type": "code",
   "execution_count": 41,
   "id": "8e6cdb4e",
   "metadata": {},
   "outputs": [
    {
     "name": "stdout",
     "output_type": "stream",
     "text": [
      "1 split ended.\n",
      "2 split ended.\n",
      "3 split ended.\n",
      "4 split ended.\n",
      "5 split ended.\n",
      "CPU times: user 51min 34s, sys: 10.6 s, total: 51min 44s\n",
      "Wall time: 7min 23s\n"
     ]
    }
   ],
   "source": [
    "%%time\n",
    "kf=pd.DataFrame(index=range( 5* 3))\n",
    "entries=[]\n",
    "X=df_train['clean_data']\n",
    "y=df_train['sentiment']\n",
    "i=0\n",
    "for train_index,test_index in skf.split(X,y):\n",
    "    X_train, X_test = X[train_index], X[test_index]\n",
    "    y_train, y_test = y[train_index], y[test_index]\n",
    "    cv_pipe.fit(X_train,y_train)\n",
    "    y_pred=cv_pipe.predict(X_test)\n",
    "    entries.append((\"CountVect\",\n",
    "                    accuracy_score(y_pred,y_test),\n",
    "                   f1_score(y_pred,y_test,average='macro')))\n",
    "    tfidf_pipe.fit(X_train,y_train)\n",
    "    y_pred=tfidf_pipe.predict(X_test)\n",
    "    entries.append((\"TF-IDF\",\n",
    "                    accuracy_score(y_pred,y_test),\n",
    "                   f1_score(y_pred,y_test,average='macro')))\n",
    "    X_train=np.array(wordvec_df.iloc[train_index])\n",
    "    y_train=label_encoder.fit_transform(y[train_index])\n",
    "    xgb=clone(xgb)\n",
    "    xgb.fit(X_train,y_train)\n",
    "    X_test=np.array(wordvec_df.iloc[test_index])\n",
    "    y_test=label_encoder.fit_transform(y[test_index])\n",
    "    y_pred=xgb.predict(X_test)\n",
    "    entries.append((\"XGBoost\",\n",
    "                    accuracy_score(y_pred,y_test),\n",
    "                   f1_score(y_pred,y_test,average='macro')))\n",
    "    i=i+1\n",
    "    print(str(i)+\" split ended.\")\n",
    "    \n",
    "            "
   ]
  },
  {
   "cell_type": "code",
   "execution_count": 42,
   "id": "6e692b40",
   "metadata": {},
   "outputs": [
    {
     "data": {
      "text/html": [
       "<div>\n",
       "<style scoped>\n",
       "    .dataframe tbody tr th:only-of-type {\n",
       "        vertical-align: middle;\n",
       "    }\n",
       "\n",
       "    .dataframe tbody tr th {\n",
       "        vertical-align: top;\n",
       "    }\n",
       "\n",
       "    .dataframe thead th {\n",
       "        text-align: right;\n",
       "    }\n",
       "</style>\n",
       "<table border=\"1\" class=\"dataframe\">\n",
       "  <thead>\n",
       "    <tr style=\"text-align: right;\">\n",
       "      <th></th>\n",
       "      <th>model_name</th>\n",
       "      <th>accuracy</th>\n",
       "      <th>f1_macro</th>\n",
       "    </tr>\n",
       "  </thead>\n",
       "  <tbody>\n",
       "    <tr>\n",
       "      <th>0</th>\n",
       "      <td>CountVect</td>\n",
       "      <td>0.757707</td>\n",
       "      <td>0.657753</td>\n",
       "    </tr>\n",
       "    <tr>\n",
       "      <th>1</th>\n",
       "      <td>TF-IDF</td>\n",
       "      <td>0.748873</td>\n",
       "      <td>0.620140</td>\n",
       "    </tr>\n",
       "    <tr>\n",
       "      <th>2</th>\n",
       "      <td>XGBoost</td>\n",
       "      <td>0.750315</td>\n",
       "      <td>0.603891</td>\n",
       "    </tr>\n",
       "    <tr>\n",
       "      <th>3</th>\n",
       "      <td>CountVect</td>\n",
       "      <td>0.757887</td>\n",
       "      <td>0.649516</td>\n",
       "    </tr>\n",
       "    <tr>\n",
       "      <th>4</th>\n",
       "      <td>TF-IDF</td>\n",
       "      <td>0.753560</td>\n",
       "      <td>0.619591</td>\n",
       "    </tr>\n",
       "    <tr>\n",
       "      <th>5</th>\n",
       "      <td>XGBoost</td>\n",
       "      <td>0.754101</td>\n",
       "      <td>0.605910</td>\n",
       "    </tr>\n",
       "    <tr>\n",
       "      <th>6</th>\n",
       "      <td>CountVect</td>\n",
       "      <td>0.767802</td>\n",
       "      <td>0.665269</td>\n",
       "    </tr>\n",
       "    <tr>\n",
       "      <th>7</th>\n",
       "      <td>TF-IDF</td>\n",
       "      <td>0.761312</td>\n",
       "      <td>0.636402</td>\n",
       "    </tr>\n",
       "    <tr>\n",
       "      <th>8</th>\n",
       "      <td>XGBoost</td>\n",
       "      <td>0.757887</td>\n",
       "      <td>0.620197</td>\n",
       "    </tr>\n",
       "    <tr>\n",
       "      <th>9</th>\n",
       "      <td>CountVect</td>\n",
       "      <td>0.754778</td>\n",
       "      <td>0.643564</td>\n",
       "    </tr>\n",
       "    <tr>\n",
       "      <th>10</th>\n",
       "      <td>TF-IDF</td>\n",
       "      <td>0.756221</td>\n",
       "      <td>0.628540</td>\n",
       "    </tr>\n",
       "    <tr>\n",
       "      <th>11</th>\n",
       "      <td>XGBoost</td>\n",
       "      <td>0.761991</td>\n",
       "      <td>0.621260</td>\n",
       "    </tr>\n",
       "    <tr>\n",
       "      <th>12</th>\n",
       "      <td>CountVect</td>\n",
       "      <td>0.759286</td>\n",
       "      <td>0.654555</td>\n",
       "    </tr>\n",
       "    <tr>\n",
       "      <th>13</th>\n",
       "      <td>TF-IDF</td>\n",
       "      <td>0.751893</td>\n",
       "      <td>0.625652</td>\n",
       "    </tr>\n",
       "    <tr>\n",
       "      <th>14</th>\n",
       "      <td>XGBoost</td>\n",
       "      <td>0.748648</td>\n",
       "      <td>0.612001</td>\n",
       "    </tr>\n",
       "  </tbody>\n",
       "</table>\n",
       "</div>"
      ],
      "text/plain": [
       "   model_name  accuracy  f1_macro\n",
       "0   CountVect  0.757707  0.657753\n",
       "1      TF-IDF  0.748873  0.620140\n",
       "2     XGBoost  0.750315  0.603891\n",
       "3   CountVect  0.757887  0.649516\n",
       "4      TF-IDF  0.753560  0.619591\n",
       "5     XGBoost  0.754101  0.605910\n",
       "6   CountVect  0.767802  0.665269\n",
       "7      TF-IDF  0.761312  0.636402\n",
       "8     XGBoost  0.757887  0.620197\n",
       "9   CountVect  0.754778  0.643564\n",
       "10     TF-IDF  0.756221  0.628540\n",
       "11    XGBoost  0.761991  0.621260\n",
       "12  CountVect  0.759286  0.654555\n",
       "13     TF-IDF  0.751893  0.625652\n",
       "14    XGBoost  0.748648  0.612001"
      ]
     },
     "execution_count": 42,
     "metadata": {},
     "output_type": "execute_result"
    }
   ],
   "source": [
    "kf = pd.DataFrame(entries, columns=['model_name', 'accuracy','f1_macro'])\n",
    "kf"
   ]
  },
  {
   "cell_type": "code",
   "execution_count": 43,
   "id": "3a1f68a3",
   "metadata": {},
   "outputs": [
    {
     "data": {
      "image/png": "[encoded data removed]",
      "text/plain": [
       "<Figure size 720x576 with 1 Axes>"
      ]
     },
     "metadata": {
      "needs_background": "light"
     },
     "output_type": "display_data"
    }
   ],
   "source": [
    "plt.figure(figsize=(10,8))\n",
    "\n",
    "plt.scatter(np.ones(5), kf[kf['model_name']=='CountVect']['accuracy'],\n",
    "               s=100,\n",
    "               c='k',\n",
    "               alpha=.7,\n",
    "               label=\"CV Split\")\n",
    "plt.scatter([1], np.mean(kf[kf['model_name']=='CountVect']['accuracy']),\n",
    "               s=100,\n",
    "               c='r',\n",
    "               alpha=1,\n",
    "               label=\"Mean CV\")\n",
    "\n",
    "\n",
    "plt.scatter(2*np.ones(5), kf[kf['model_name']=='TF-IDF']['accuracy'],\n",
    "               s=100,\n",
    "               c='k',\n",
    "               alpha=.7)\n",
    "plt.scatter([2], np.mean(kf[kf['model_name']=='TF-IDF']['accuracy']),\n",
    "               s=100,\n",
    "               c='r',\n",
    "               alpha=1)\n",
    "plt.scatter(3*np.ones(5), kf[kf['model_name']=='XGBoost']['accuracy'], \n",
    "               s=100,\n",
    "               c='k',\n",
    "               alpha=.7)\n",
    "plt.scatter([3], np.mean(kf[kf['model_name']=='XGBoost']['accuracy']),\n",
    "               s=100,\n",
    "               c='r',\n",
    "               alpha=1)\n",
    "\n",
    "plt.xlim(0.25,3.75)\n",
    "plt.xticks([1,2,3], [\"CountVec LogReg\", \"TF-IDF LogReg\", \"Word2Vec XGB\"], fontsize=15)\n",
    "plt.yticks(fontsize=12)\n",
    "plt.xlabel(\"Model\", fontsize=10)\n",
    "plt.ylabel(\"Accuracy\", fontsize=10)\n",
    "plt.legend(fontsize=10)\n",
    "plt.title(\"Cross Validation Accuracy Scores\",fontsize=20)\n",
    "plt.show()\n",
    "\n"
   ]
  },
  {
   "cell_type": "markdown",
   "id": "bcfefd93",
   "metadata": {},
   "source": [
    "Looks like ``CountVectorizer Logistic Regression`` has the best accuracy scores, but since our dataset is imbalanced we will be also looking at f1_macro scores."
   ]
  },
  {
   "cell_type": "code",
   "execution_count": 44,
   "id": "7686087f",
   "metadata": {},
   "outputs": [
    {
     "data": {
      "image/png": "[encoded data removed]",
      "text/plain": [
       "<Figure size 720x576 with 1 Axes>"
      ]
     },
     "metadata": {
      "needs_background": "light"
     },
     "output_type": "display_data"
    }
   ],
   "source": [
    "plt.figure(figsize=(10,8))\n",
    "\n",
    "plt.scatter(np.ones(5), kf[kf['model_name']=='CountVect']['f1_macro'],\n",
    "               s=100,\n",
    "               c='k',\n",
    "               alpha=.7,\n",
    "               label=\"CV Split\")\n",
    "plt.scatter([1], np.mean(kf[kf['model_name']=='CountVect']['f1_macro']),\n",
    "               s=100,\n",
    "               c='r',\n",
    "               alpha=1,\n",
    "               label=\"Mean CV\")\n",
    "\n",
    "\n",
    "plt.scatter(2*np.ones(5), kf[kf['model_name']=='TF-IDF']['f1_macro'],\n",
    "               s=100,\n",
    "               c='k',\n",
    "               alpha=.7)\n",
    "plt.scatter([2], np.mean(kf[kf['model_name']=='TF-IDF']['f1_macro']),\n",
    "               s=100,\n",
    "               c='r',\n",
    "               alpha=1)\n",
    "plt.scatter(3*np.ones(5), kf[kf['model_name']=='XGBoost']['f1_macro'], \n",
    "               s=100,\n",
    "               c='k',\n",
    "               alpha=.7)\n",
    "plt.scatter([3], np.mean(kf[kf['model_name']=='XGBoost']['f1_macro']),\n",
    "               s=100,\n",
    "               c='r',\n",
    "               alpha=1)\n",
    "\n",
    "plt.xlim(0.25,3.75)\n",
    "plt.xticks([1,2,3], [\"CountVec LogReg\", \"TF-IDF LogReg\", \"Word2Vec XGB\"], fontsize=15)\n",
    "plt.yticks(fontsize=12)\n",
    "plt.xlabel(\"Model\", fontsize=10)\n",
    "plt.ylabel(\"F1_macro\", fontsize=10)\n",
    "plt.legend(fontsize=10)\n",
    "plt.title(\"Cross Validation F1_macro Scores\",fontsize=20)\n",
    "plt.show()\n"
   ]
  },
  {
   "cell_type": "markdown",
   "id": "46b30281",
   "metadata": {},
   "source": [
    "Looks like ``CountVectorizer Logistic Regression`` also has the best f1_macro scores, we will choose this model for hypertuning parameters."
   ]
  },
  {
   "cell_type": "markdown",
   "id": "01d29e6e",
   "metadata": {},
   "source": [
    "### HyperTuning Parameters and number of features"
   ]
  },
  {
   "cell_type": "markdown",
   "id": "c6f76486",
   "metadata": {},
   "source": [
    "We check whether decreasing or increasing ``max features`` for ``CountVectorizer`` improve accuracy scores and f1_macro. "
   ]
  },
  {
   "cell_type": "code",
   "execution_count": 215,
   "id": "526c64e5",
   "metadata": {},
   "outputs": [
    {
     "name": "stdout",
     "output_type": "stream",
     "text": [
      "1 split ended.\n",
      "2 split ended.\n",
      "3 split ended.\n",
      "4 split ended.\n",
      "5 split ended.\n",
      "CPU times: user 13min 3s, sys: 3min 18s, total: 16min 22s\n",
      "Wall time: 3min 10s\n"
     ]
    }
   ],
   "source": [
    "%%time\n",
    "skf=StratifiedKFold(n_splits=5,shuffle=True,random_state=0)\n",
    "max_f=[1000,2000,3000,4000,5000,6000,7000,8000,9000,10000]\n",
    "kf_ft=pd.DataFrame(index=range( 5* len(max_f)))\n",
    "entries=[]\n",
    "X=df_train['clean_data']\n",
    "y=df_train['sentiment']\n",
    "count=1\n",
    "for train_index,test_index in skf.split(X,y):\n",
    "    X_train, X_test = X[train_index], X[test_index]\n",
    "    y_train, y_test = y[train_index], y[test_index]\n",
    "    for fts in max_f:\n",
    "        cv_pipe=Pipeline([('cv', CountVectorizer(max_features=fts)), \n",
    "                      ('lreg', LogisticRegression(max_iter=1000))])\n",
    "        cv_pipe.fit(X_train,y_train)\n",
    "        y_pred=cv_pipe.predict(X_test)\n",
    "        entries.append((fts,count,\n",
    "                    accuracy_score(y_pred,y_test),\n",
    "                   f1_score(y_pred,y_test,average='macro')))\n",
    "    print(str(count)+ \" split ended.\")\n",
    "    count+=1\n",
    "    "
   ]
  },
  {
   "cell_type": "code",
   "execution_count": 218,
   "id": "b9bbddab",
   "metadata": {},
   "outputs": [
    {
     "data": {
      "text/plain": [
       "<matplotlib.collections.PathCollection at 0x7fc185bd98b0>"
      ]
     },
     "execution_count": 218,
     "metadata": {},
     "output_type": "execute_result"
    },
    {
     "data": {
      "image/png": "[encoded data removed]",
      "text/plain": [
       "<Figure size 432x288 with 1 Axes>"
      ]
     },
     "metadata": {
      "needs_background": "light"
     },
     "output_type": "display_data"
    }
   ],
   "source": [
    "kf_ft= pd.DataFrame(entries, columns=['max_features', 'fold_idx','accuracy','f1_macro'])\n",
    "mean_accuracy = kf_ft.groupby('max_features').accuracy.mean()\n",
    "mean_f1_macro = kf_ft.groupby('max_features').f1_macro.mean()\n",
    "\n",
    "\n",
    "acc = pd.concat([mean_accuracy, mean_f1_macro], axis= 1, \n",
    "          ignore_index=True)\n",
    "acc.columns = ['Mean_accuracy','Mean_F1_macro']\n",
    "plt.scatter(range(1,acc.shape[0]+1), np.array(acc.Mean_accuracy))"
   ]
  },
  {
   "cell_type": "code",
   "execution_count": 219,
   "id": "5a8ab049",
   "metadata": {},
   "outputs": [
    {
     "data": {
      "text/plain": [
       "<matplotlib.collections.PathCollection at 0x7fc185e95880>"
      ]
     },
     "execution_count": 219,
     "metadata": {},
     "output_type": "execute_result"
    },
    {
     "data": {
      "image/png": "[encoded data removed]",
      "text/plain": [
       "<Figure size 432x288 with 1 Axes>"
      ]
     },
     "metadata": {
      "needs_background": "light"
     },
     "output_type": "display_data"
    }
   ],
   "source": [
    "plt.scatter(range(1,acc.shape[0]+1), np.array(acc.Mean_F1_macro))"
   ]
  },
  {
   "cell_type": "markdown",
   "id": "4fefeb36",
   "metadata": {},
   "source": [
    "It seems like accuracies and mean f1_macro more or less increases as the number of features increase. We will choose ``max_features=8000`` for hyper-parameter tuning. As our data-set is imbalanced we will focus more on ``f1_macro`` scores."
   ]
  },
  {
   "cell_type": "code",
   "execution_count": 225,
   "id": "e4bd7859",
   "metadata": {},
   "outputs": [
    {
     "name": "stdout",
     "output_type": "stream",
     "text": [
      "tuned hpyerparameters :(best parameters)  {'C': 1.0}\n",
      "f1_macro : 0.6737390389340068\n",
      "CPU times: user 21min 12s, sys: 6min 10s, total: 27min 22s\n",
      "Wall time: 4min 16s\n"
     ]
    }
   ],
   "source": [
    "%%time\n",
    "from sklearn.model_selection import GridSearchCV\n",
    "grid={\"C\":np.logspace(-2,2,7)} \n",
    "lreg=LogisticRegression(max_iter=10000)\n",
    "scoring = ['accuracy','f1_macro']\n",
    "lreg_cv=GridSearchCV(lreg,grid,cv=5,\n",
    "                    scoring=scoring,refit='f1_macro')\n",
    "X_train=CountVectorizer(max_features=8000).fit_transform(df_train.clean_data)\n",
    "y_train=df_train.sentiment\n",
    "lreg_cv.fit(X_train,y_train)\n",
    "\n",
    "print(\"tuned hpyerparameters :(best parameters) \",lreg_cv.best_params_)\n",
    "print(\"f1_macro :\",lreg_cv.best_score_)"
   ]
  },
  {
   "cell_type": "code",
   "execution_count": 228,
   "id": "82c1e27a",
   "metadata": {},
   "outputs": [],
   "source": [
    "lreg=LogisticRegression( C = 1, max_iter=10000)"
   ]
  },
  {
   "cell_type": "code",
   "execution_count": 229,
   "id": "25d57d86",
   "metadata": {},
   "outputs": [],
   "source": [
    "cd=CountVectorizer(max_features=8000)\n",
    "X_train=cd.fit_transform(df_train.clean_data)\n",
    "y_train=df_train.sentiment\n",
    "X_test=cd.transform(df_test.clean_data)\n",
    "y_test=df_test.sentiment\n"
   ]
  },
  {
   "cell_type": "code",
   "execution_count": 230,
   "id": "80fdc472",
   "metadata": {},
   "outputs": [
    {
     "data": {
      "text/plain": [
       "LogisticRegression(C=1, max_iter=10000)"
      ]
     },
     "execution_count": 230,
     "metadata": {},
     "output_type": "execute_result"
    }
   ],
   "source": [
    "lreg.fit(X_train,y_train)"
   ]
  },
  {
   "cell_type": "code",
   "execution_count": 234,
   "id": "6867e50c",
   "metadata": {},
   "outputs": [
    {
     "name": "stdout",
     "output_type": "stream",
     "text": [
      "Test accuracy : 76.62\n"
     ]
    }
   ],
   "source": [
    "print(\"Test accuracy : {:.2f}\".format(100*accuracy_score(y_test,lreg.predict(X_test))))"
   ]
  },
  {
   "cell_type": "code",
   "execution_count": 237,
   "id": "236a317e",
   "metadata": {},
   "outputs": [
    {
     "name": "stdout",
     "output_type": "stream",
     "text": [
      "Test f1_macro : 0.67\n"
     ]
    }
   ],
   "source": [
    "print(\"Test f1_macro : {:.2f}\".format(f1_score(lreg.predict(X_test),y_test,average='macro')))"
   ]
  },
  {
   "cell_type": "code",
   "execution_count": 238,
   "id": "424eb102",
   "metadata": {},
   "outputs": [],
   "source": [
    "from sklearn.metrics import ConfusionMatrixDisplay\n",
    "cm=confusion_matrix(y_test,lreg.predict(X_test))"
   ]
  },
  {
   "cell_type": "code",
   "execution_count": 239,
   "id": "583727d3",
   "metadata": {},
   "outputs": [
    {
     "data": {
      "text/plain": [
       "<sklearn.metrics._plot.confusion_matrix.ConfusionMatrixDisplay at 0x7fc186225940>"
      ]
     },
     "execution_count": 239,
     "metadata": {},
     "output_type": "execute_result"
    },
    {
     "data": {
      "image/png": "[encoded data removed]",
      "text/plain": [
       "<Figure size 432x288 with 2 Axes>"
      ]
     },
     "metadata": {
      "needs_background": "light"
     },
     "output_type": "display_data"
    }
   ],
   "source": [
    "ConfusionMatrixDisplay(cm,display_labels=[\"Neg\",\"Neu\",\"Pos\"]).plot()"
   ]
  },
  {
   "cell_type": "markdown",
   "id": "98c7f9c5",
   "metadata": {},
   "source": [
    "### Conclusion: \n",
    "\n",
    "We get a test accuracy of 76.62% on our test data and an f1_macro score of 0.67 using ``LogReg CountVect`` model. We observe that a lot of true negative and neutral stances are being classified as positives, however our model does a great job in classifying the positive classes."
   ]
  },
  {
   "cell_type": "markdown",
   "id": "1c43af5c",
   "metadata": {},
   "source": [
    "### Climate Change Stance Trends\n",
    "\n",
    "We now run our model on climate change tweets scraped between 2014 and 2021 (at 100 tweets/day) and view the trends."
   ]
  },
  {
   "cell_type": "code",
   "execution_count": 1,
   "id": "1e1097b4",
   "metadata": {},
   "outputs": [
    {
     "ename": "NameError",
     "evalue": "name 'np' is not defined",
     "output_type": "error",
     "traceback": [
      "\u001b[0;31m---------------------------------------------------------------------------\u001b[0m",
      "\u001b[0;31mNameError\u001b[0m                                 Traceback (most recent call last)",
      "\u001b[0;32m/var/folders/58/fw1mf93d4gxg7d40q7fc5hj00000gn/T/ipykernel_5779/473645905.py\u001b[0m in \u001b[0;36m<module>\u001b[0;34m\u001b[0m\n\u001b[1;32m      1\u001b[0m \u001b[0;32mimport\u001b[0m \u001b[0mos\u001b[0m\u001b[0;34m\u001b[0m\u001b[0;34m\u001b[0m\u001b[0m\n\u001b[0;32m----> 2\u001b[0;31m \u001b[0maccs\u001b[0m\u001b[0;34m=\u001b[0m\u001b[0mnp\u001b[0m\u001b[0;34m.\u001b[0m\u001b[0mzeros\u001b[0m\u001b[0;34m(\u001b[0m\u001b[0;34m(\u001b[0m\u001b[0;36m3\u001b[0m\u001b[0;34m,\u001b[0m\u001b[0;36m3\u001b[0m\u001b[0;34m)\u001b[0m\u001b[0;34m)\u001b[0m\u001b[0;34m;\u001b[0m\u001b[0myear\u001b[0m\u001b[0;34m=\u001b[0m\u001b[0;36m14\u001b[0m\u001b[0;34m;\u001b[0m\u001b[0;34m\u001b[0m\u001b[0;34m\u001b[0m\u001b[0m\n\u001b[0m\u001b[1;32m      3\u001b[0m \u001b[0mpaths\u001b[0m\u001b[0;34m=\u001b[0m\u001b[0;34m[\u001b[0m\u001b[0;34m\"cc_2014\"\u001b[0m\u001b[0;34m,\u001b[0m\u001b[0;34m\"cc_2015\"\u001b[0m\u001b[0;34m,\u001b[0m\u001b[0;34m\"cc_2016\"\u001b[0m\u001b[0;34m,\u001b[0m\u001b[0;34m\"cc_2017\"\u001b[0m\u001b[0;34m,\u001b[0m\u001b[0;34m\"cc_2018\"\u001b[0m\u001b[0;34m,\u001b[0m\u001b[0;34m\"cc_2019\"\u001b[0m\u001b[0;34m,\u001b[0m\u001b[0;34m\"cc_2020\"\u001b[0m\u001b[0;34m,\u001b[0m\u001b[0;34m\"cc_2021\"\u001b[0m\u001b[0;34m]\u001b[0m\u001b[0;34m\u001b[0m\u001b[0;34m\u001b[0m\u001b[0m\n\u001b[1;32m      4\u001b[0m \u001b[0;32mfor\u001b[0m \u001b[0mpath\u001b[0m \u001b[0;32min\u001b[0m \u001b[0mpaths\u001b[0m\u001b[0;34m:\u001b[0m\u001b[0;34m\u001b[0m\u001b[0;34m\u001b[0m\u001b[0m\n\u001b[1;32m      5\u001b[0m     \u001b[0mdf_list\u001b[0m\u001b[0;34m=\u001b[0m\u001b[0;34m[\u001b[0m\u001b[0;34m]\u001b[0m\u001b[0;34m\u001b[0m\u001b[0;34m\u001b[0m\u001b[0m\n",
      "\u001b[0;31mNameError\u001b[0m: name 'np' is not defined"
     ]
    }
   ],
   "source": [
    "import os\n",
    "accs=np.zeros((3,3));year=14;\n",
    "paths=[\"cc_2014\",\"cc_2015\",\"cc_2016\",\"cc_2017\",\"cc_2018\",\"cc_2019\",\"cc_2020\",\"cc_2021\"]\n",
    "for path in paths:\n",
    "    df_list=[]\n",
    "    for f in os.listdir(path):\n",
    "        files_path=os.path.join(data_raw,path,f)\n",
    "        temp=pd.read_csv(os.path.join(files_path), sep='\\t', encoding='utf-8', lineterminator='\\n')\n",
    "        df_list.append(temp)\n",
    "    df=pd.concat(df_list)\n",
    "    df=df[['content']]\n",
    "    df['clean_data']=df['content'].apply(clean_data)\n",
    "    X=cd.transform(df.clean_data)\n",
    "    y=lreg.predict(X)\n",
    "    unique, counts = np.unique(y, return_counts=True)\n",
    "    accs=np.concatenate((accs,np.asarray((np.ones(3)*year,unique, counts/X.shape[0])).T),axis=0)\n",
    "    print(str(2000+year) + \" done.\")\n",
    "    year=year+1"
   ]
  },
  {
   "cell_type": "code",
   "execution_count": null,
   "id": "7a966034",
   "metadata": {},
   "outputs": [],
   "source": []
  }
 ],
 "metadata": {
  "kernelspec": {
   "display_name": "Python 3 (ipykernel)",
   "language": "python",
   "name": "python3"
  },
  "language_info": {
   "codemirror_mode": {
    "name": "ipython",
    "version": 3
   },
   "file_extension": ".py",
   "mimetype": "text/x-python",
   "name": "python",
   "nbconvert_exporter": "python",
   "pygments_lexer": "ipython3",
   "version": "3.8.12"
  }
 },
 "nbformat": 4,
 "nbformat_minor": 5
}
